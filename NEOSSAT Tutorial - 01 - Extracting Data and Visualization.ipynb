{
 "cells": [
  {
   "cell_type": "markdown",
   "id": "37afe737",
   "metadata": {},
   "source": [
    "# NEOSSAT Tutorial - 01 - Extracting the data and visualization\n",
    "***\n",
    "\n",
    "**Tutorial :** This tutorial provides a step to step guide to extract data from the the Canadian astronomy data centre (CADC) and the open data portal of the Canadian Space Agency. </br>\n",
    "**Mission and Instrument :** NEOSSAT  \n",
    "**Astronomical Target :** Detecting and tracking near earth objects      \n",
    "**System Requirements :** Python 3.9 or later  \n",
    "**Tutorial Level :** Basic  \n",
    "\n",
    "For more information on on the NEOSSAT space telescope and the FITS files please consult NEOSSat FITS Image User’s Guide via the following link: https://donnees-data.asc-csa.gc.ca/users/OpenData_DonneesOuvertes/pub/NEOSSAT/Supporting%20Documents/CSA-NEOSSAT-MAN-0002_FITS_IMAGE_UGUIDE-v4-00.pdf\n",
    "\n",
    "**Extracting data from the open data portal of the Canadian Space Agency (CSA):**: The Canadian Space Agency has a dedicated page to NEOSSAT datasets on its open data and information webapge which can be found via the following link: https://donnees-data.asc-csa.gc.ca/en/dataset/9ae3e718-8b6d-40b7-8aa4-858f00e84b30\n",
    "\n",
    "**Extracting data from the Canadian Astronomy Data Centre (CADC)**: CADC recoemmnds the installation of CADCdata package for usage in python. Documentation on how to access the library is available with the pydoc cadcdata. For more information visit: https://www.cadc-ccda.hia-iha.nrc-cnrc.gc.ca/en/doc/data/#library\n",
    "\n"
   ]
  },
  {
   "cell_type": "markdown",
   "id": "8177cb24",
   "metadata": {},
   "source": [
    "## Option 1 - Extracting NEOSSAT data from the Canadian Space Agency (CSA)\n",
    "Open the following FTP link on file explorer and click on the 'Astro' folder to get access to the .fits files of NEOSSAT from 2017 to 2023: ftp://ftp.asc-csa.gc.ca/users/OpenData_DonneesOuvertes/pub/NEOSSAT/\n",
    "\n",
    "With the Canadian Space Agency dataset you can filter the NEOSSAT data based on the year and day of year. You can filter the data based on the sky coordinates (i.e. CMD value on the header data unit of the .fits files) yet the process might take longer than usual to get completed. "
   ]
  },
  {
   "cell_type": "markdown",
   "id": "76179028",
   "metadata": {},
   "source": [
    "### Importing required libraries"
   ]
  },
  {
   "cell_type": "code",
   "execution_count": null,
   "id": "2ea70cba",
   "metadata": {},
   "outputs": [],
   "source": [
    "from astropy.visualization import astropy_mpl_style\n",
    "from astropy.io import fits\n",
    "import matplotlib.pyplot as plt\n",
    "from ftplib import FTP\n",
    "import os\n",
    "import re\n",
    "from astropy.coordinates import SkyCoord\n",
    "import astropy.units as u"
   ]
  },
  {
   "cell_type": "code",
   "execution_count": null,
   "id": "bbe69791",
   "metadata": {},
   "outputs": [],
   "source": [
    "#Define a local directory path to download the .fits files. \n",
    "local_directory = 'C:/Users/rsheikholmolouki/Desktop/NEOSSAT_CSA/Part 1/'"
   ]
  },
  {
   "cell_type": "code",
   "execution_count": null,
   "id": "8ed6644e",
   "metadata": {},
   "outputs": [],
   "source": [
    "#initialize the server\n",
    "ftp_host = 'ftp.asc-csa.gc.ca'\n",
    "ftp = FTP (ftp_host)\n",
    "ftp.login ()"
   ]
  },
  {
   "cell_type": "code",
   "execution_count": null,
   "id": "98a9b820",
   "metadata": {},
   "outputs": [],
   "source": [
    "#Switch to the NEOSSAT directory path\n",
    "ftp_directory = '/users/OpenData_DonneesOuvertes/pub/NEOSSAT/ASTRO/'\n",
    "ftp.cwd(ftp_directory)"
   ]
  },
  {
   "cell_type": "code",
   "execution_count": null,
   "id": "83f53fc6",
   "metadata": {},
   "outputs": [],
   "source": [
    "#Print out the NEOSSAT collection folders\n",
    "content = ftp.nlst()\n",
    "years = [item for item in content if \".\" not in item]\n",
    "print (\"Neossat_collection:\")\n",
    "for year in years:\n",
    "    print (year)"
   ]
  },
  {
   "cell_type": "code",
   "execution_count": null,
   "id": "e2ffc61e",
   "metadata": {},
   "outputs": [],
   "source": [
    "#Filtering the .fits files in mind based on year \n",
    "selected_year = '2021' #change the year to the ones in the collection above.\n",
    "CMD = 'RA=3.802 DEC=-0.750 ROLL=1.745' # For filtering based on the sky coordinates"
   ]
  },
  {
   "cell_type": "code",
   "execution_count": null,
   "id": "7850bb63",
   "metadata": {},
   "outputs": [],
   "source": [
    "#Code iterating over each subdirectory to check the header for the CMD criteria\n",
    "def filter_fits_match (ftp, directory):\n",
    "    matching_fits_files = []\n",
    "    #files_in_directory = [item for item in ftp.nlst(directory) if '.' not in item]\n",
    "    subfolders_in_directory = [item for item in ftp.nlst(directory) if '.' not in item]\n",
    "    files_in_directory = []\n",
    "    for subfolder in subfolders_in_directory:\n",
    "        #print (subfolder)\n",
    "        tmpRawFiles = [item for item in ftp.nlst(subfolder)]\n",
    "        for tmp_file in tmpRawFiles:\n",
    "            tmp_file = subfolder + '/' + tmp_file\n",
    "        files_in_directory = files_in_directory + tmpRawFiles\n",
    "    #print (len(files_in_directory))\n",
    "    for filename in files_in_directory:\n",
    "        print ('File to parse: ' + filename)\n",
    "        if filename.lower().endswith('.fits'):\n",
    "            try:\n",
    "                print(\"ftp://{ftp_host}/{ftp_directory}/{filename}\")\n",
    "                #remote_filepath = f\"ftp://{ftp_host}/{ftp_directory}/{directory}/{filename}\"\n",
    "                remote_filepath = f\"ftp://{ftp_host}/{ftp_directory}/{filename}\"\n",
    "                hdul = fits.open(remote_filepath, cache =True)\n",
    "                #header = fits.getheader(remote_filepath, cache=True)\n",
    "                #cmd_value = hdul[0].header.get('CMD','').strip()\n",
    "                print(f' File: {filename}, CMD value: {cmd_value}')\n",
    "                #cmd_value = header.get (remote_filepath, 'CMD').strip()\n",
    "                hdul.close()\n",
    "            \n",
    "                if cmd_value == CMD:##CMD Header data unit (HDU) commanded spacecraft pointing, and celestial coordinates, in Science CCD frame. \n",
    "                    matching_fits_file.append((directory, filename))\n",
    "            except Exception as ex:\n",
    "                print (f\" Error processing file {filename}: {str(ex)}\")\n",
    "    subdirectories = [item for item in ftp.nlst(directory) if '.' not in item]\n",
    "    for subdir in subdirectories:\n",
    "        matching_fits_files.extend(filter_fits_match(ftp, f'{directory}/{subdir}'))\n",
    "    return matching_fits_files"
   ]
  },
  {
   "cell_type": "code",
   "execution_count": null,
   "id": "de3cf28c",
   "metadata": {
    "scrolled": true
   },
   "outputs": [],
   "source": [
    "matching_files = filter_fits_match(ftp, selected_year)\n",
    "print (\"Matching .fits files:\")\n",
    "for directory, filename in matching_files:\n",
    "    print (f' {directory}/{filename}')"
   ]
  },
  {
   "cell_type": "code",
   "execution_count": null,
   "id": "f75c6bf4",
   "metadata": {},
   "outputs": [],
   "source": [
    "for directory, filename in matching_files:\n",
    "    remote_filepath = f'{directory}/{filename}'\n",
    "    local_filepath = os.path.join(local_directory, filename)\n",
    "    with open (local_filepath, 'wb') as local_file:\n",
    "        ftp.retrbinary(f'RETR {remote_filepath}', local_file.write)"
   ]
  },
  {
   "cell_type": "code",
   "execution_count": null,
   "id": "29957fb0",
   "metadata": {},
   "outputs": [],
   "source": [
    "ftp.quit()"
   ]
  },
  {
   "cell_type": "markdown",
   "id": "80ea125a",
   "metadata": {},
   "source": [
    "### You can also download only one file from the FTP file and then visualize it"
   ]
  },
  {
   "cell_type": "code",
   "execution_count": null,
   "id": "84b60406",
   "metadata": {},
   "outputs": [],
   "source": [
    "#Download the .fits file of choice in a folder. \n",
    "#In this section the following fits file was downloaded: 2019 folder >> 292 >> NEOS_SCI_2019292034200.fits\n",
    "source = 'C:/Users/rsheikholmolouki/Desktop/NEOSSAT_CSA/' #folder\n",
    "filename = source + 'NEOS_SCI_2019292034200.fits' #name of the specific .fits file"
   ]
  },
  {
   "cell_type": "code",
   "execution_count": null,
   "id": "96cf0657",
   "metadata": {},
   "outputs": [],
   "source": [
    "img_header = fits.getheader(filename)\n",
    "print(img_header)"
   ]
  },
  {
   "cell_type": "markdown",
   "id": "99846714",
   "metadata": {},
   "source": [
    "### Visualizing the FITS image data"
   ]
  },
  {
   "cell_type": "code",
   "execution_count": null,
   "id": "3c094d9f",
   "metadata": {
    "scrolled": true
   },
   "outputs": [],
   "source": [
    "#Viusalize the fits file\n",
    "image_data = fits.getdata(filename, ext =0)\n",
    "plt.style.use(astropy_mpl_style)\n",
    "plt.figure()\n",
    "plt.axis ('off')\n",
    "plt.imshow(image_data, cmap='gray')\n",
    "plt.show()"
   ]
  },
  {
   "cell_type": "markdown",
   "id": "50351ed0",
   "metadata": {},
   "source": [
    "## Option 2 - Extracting NEOSSAT data from the Canadian Astronomy Data Centre (CADC)"
   ]
  },
  {
   "cell_type": "markdown",
   "id": "0005ccfa",
   "metadata": {},
   "source": [
    "With CADC datasets, in addition to filtering the data based on time, you can also filter through NEOSSAT data based on the sky coordinates, time exposure and more! "
   ]
  },
  {
   "cell_type": "markdown",
   "id": "36238369",
   "metadata": {},
   "source": [
    "### Importing required libraries"
   ]
  },
  {
   "cell_type": "code",
   "execution_count": null,
   "id": "f1dd23c1",
   "metadata": {},
   "outputs": [],
   "source": [
    "from astroquery.cadc import Cadc\n",
    "from astropy import units as u\n",
    "from astropy.coordinates import SkyCoord\n",
    "from astropy.visualization import astropy_mpl_style\n",
    "from astropy.io import fits\n",
    "import matplotlib.pyplot as plt\n",
    "import numpy as np"
   ]
  },
  {
   "cell_type": "code",
   "execution_count": null,
   "id": "f55aed81",
   "metadata": {},
   "outputs": [],
   "source": [
    "#Initialize the CADC client \n",
    "cadc = Cadc()\n",
    "\n",
    "#Print information about availbale collection \n",
    "for collection, details in sorted(cadc.get_collections().items()):\n",
    "   print(f'{collection} : {details}')"
   ]
  },
  {
   "cell_type": "code",
   "execution_count": null,
   "id": "4be44537",
   "metadata": {},
   "outputs": [],
   "source": [
    "#Define the target coordinates and search radius based on your preference\n",
    "coords = SkyCoord(240, -30, unit = 'deg') #RA, DEC, Unit\n",
    "radius = 2* u.deg\n",
    "\n",
    "#Query CADC for data within the specificied region and collection \n",
    "results = cadc.query_region(coords,radius, collection = 'NEOSSAT')\n",
    "print (results)"
   ]
  },
  {
   "cell_type": "code",
   "execution_count": null,
   "id": "026d4fd8",
   "metadata": {},
   "outputs": [],
   "source": [
    "#Filter the query results to select data with a specifc 'time_exposure'. \n",
    "# In this example 'time exposure' greater than 50 is selected\n",
    "\n",
    "filtered_results = results[results['time_exposure'] > 50.0]\n",
    "\n",
    "#Access data points from the filtered results \n",
    "print(filtered_results['time_exposure'][100])\n",
    "print(filtered_results['position_dimension_naxis2'][100])\n",
    "print(filtered_results['position_dimension_naxis1'][100])\n",
    "print(filtered_results['instrument_keywords'][100])\n",
    "print(filtered_results['metaRelease'][100])"
   ]
  },
  {
   "cell_type": "code",
   "execution_count": null,
   "id": "c8cc9373",
   "metadata": {},
   "outputs": [],
   "source": [
    "#Get a list of image URLs based on the filtered results\n",
    "image_list = cadc.get_image_list(filtered_results, coords, radius)\n",
    "\n",
    "#Print the number of images int he image_list \n",
    "print(len(image_list))\n",
    "\n",
    "#print the last URL in the image_list \n",
    "print(image_list[-1])\n",
    "\n",
    "#Get the filename of the 100th image from the image_list \n",
    "filename = image_list[100]\n",
    "print(filename)"
   ]
  },
  {
   "cell_type": "markdown",
   "id": "05420458",
   "metadata": {},
   "source": [
    "### Visualizing the FITS image data"
   ]
  },
  {
   "cell_type": "code",
   "execution_count": null,
   "id": "95405f40",
   "metadata": {},
   "outputs": [],
   "source": [
    "#Read the FITS image data from the file\n",
    "image_data = fits.getdata(filename, ext =0)"
   ]
  },
  {
   "cell_type": "code",
   "execution_count": null,
   "id": "49efb6e0",
   "metadata": {},
   "outputs": [],
   "source": [
    "#Show the image file\n",
    "plt.style.use(astropy_mpl_style)\n",
    "plt.figure()\n",
    "plt.axis ('off')\n",
    "plt.imshow(image_data, cmap='gray')\n",
    "plt.show()"
   ]
  },
  {
   "cell_type": "markdown",
   "id": "aa21b1fe",
   "metadata": {},
   "source": [
    " ==> Coming soon: Creating a sky map with NEOSSAT data and processing its images."
   ]
  }
 ],
 "metadata": {
  "kernelspec": {
   "display_name": "Python 3",
   "language": "python",
   "name": "python3"
  },
  "language_info": {
   "codemirror_mode": {
    "name": "ipython",
    "version": 3
   },
   "file_extension": ".py",
   "mimetype": "text/x-python",
   "name": "python",
   "nbconvert_exporter": "python",
   "pygments_lexer": "ipython3",
   "version": "3.8.8"
  }
 },
 "nbformat": 4,
 "nbformat_minor": 5
}
