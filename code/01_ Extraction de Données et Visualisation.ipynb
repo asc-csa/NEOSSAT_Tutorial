{
 "cells": [
  {
   "cell_type": "markdown",
   "id": "37afe737",
   "metadata": {},
   "source": [
    "# 01 - Extraction de données et visualisation\n",
    "***\n",
    "\n",
    "**Tutoriel :** Ce tutoriel fournit un guide étape par étape pour extraire des données du centre de données d'astronomie canadien (CADC) et du portail de données ouvertes de l'Agence spatiale canadienne. </br>\n",
    "\n",
    "**Mission et Instrument** : [NEOSSat](https://www.asc-csa.gc.ca/eng/satellites/neossat/) <br>\n",
    "\n",
    "**Objectifs de la Mission** :\n",
    "* Connaissance de la situation spatiale : Objets géocroiseurs (astéroïdes, débris spatiaux)\n",
    "* Cible astronomique : objets célestes (comètes, nébuleuses, galaxies, exoplanètes)\n",
    "\n",
    "**Exigences du système** : Python 3.9 ou ultérieur <br>\n",
    "\n",
    "**Niveau du tutoriel** : Élémentaire <br>\n",
    "\n",
    "***\n",
    "**Licence MIT** <br>\n",
    "Copyright (c) Sa Majesté le Roi du chef du Canada, représentée par l'Agence spatiale canadienne, 2024. <br>\n",
    "Droit d'auteur (c) Sa Majesté le Roi du chef du Canada, représentée par l'Agence Spatiale Canadienne, 2024.<br>\n",
    "\n",
    "Pour plus d'informations, veuillez vous référer au fichier *License.txt*.\n",
    "\n",
    "***\n",
    "**Informations contextuelles** <br>\n",
    "La mission [NEOSSat](https://www.asc-csa.gc.ca/eng/satellites/neossat/) lancée le 25 février 2013, est le premier télescope spatial au monde dédié à la détection et au suivi d'objets géocroiseurs.\n",
    "\n",
    "Dans le cadre des efforts du Canada pour observer et suivre les astéroïdes, comètes, satellites et débris spatiaux, ce microsatellite, seulement de la taille d'une valise, est une plateforme d'observation puissante.\n",
    "\n",
    "Opérant à une altitude d'environ 800 kilomètres, ce microsatellite orbite la Terre toutes les 100 minutes et fournit une surveillance continue des objets géocroiseurs. NEOSSat utilise une technologie avancée de roue de réaction, d'abord démontrée par le satellite [Microvariabilité et Oscillations des Étoiles (MOST)](https://www.asc-csa.gc.ca/eng/satellites/most/) lui permettant de balayer des régions de l'espace près du Soleil, aidant à identifier les astéroïdes et comètes qui peuvent passer près de la Terre.\n",
    "\n",
    "Dans le cadre de l'engagement du Canada envers la sécurité spatiale, NEOSSat est impliqué dans le suivi des débris spatiaux, fournissant des données essentielles sur les objets qui sont difficiles à observer par les télescopes terrestres. La mission est financée conjointement par l'Agence spatiale canadienne (ASC) et Recherche et développement pour la défense Canada (RDDC). NEOSSat continue à faire progresser le rôle du Canada dans l'exploration spatiale et la sécurité grâce à ses contributions continues au suivi d'astéroïdes, à la surveillance de débris spatiaux, et à la recherche d'exoplanètes.\n",
    "\n",
    "***\n",
    "**Lecture complémentaire** <br>\n",
    "\n",
    "Pour plus d'informations sur le télescope spatial NEOSSAT et les fichiers FITS, veuillez consulter le Guide de l'utilisateur d'image FITS NEOSSat via le lien suivant : https://donnees-data.asc-csa.gc.ca/users/OpenData_DonneesOuvertes/pub/NEOSSAT/Supporting%20Documents/CSA-NEOSSAT-MAN-0002_FITS_IMAGE_UGUIDE-v4-00.pdf\n",
    "\n",
    "**Extraction de données du portail de données ouvertes de l'Agence spatiale canadienne (ASC)** : L'Agence spatiale canadienne a une page dédiée aux ensembles de données NEOSSAT sur sa page web de données ouvertes et d'information qui peut être trouvée via le lien suivant : https://donnees-data.asc-csa.gc.ca/en/dataset/9ae3e718-8b6d-40b7-8aa4-858f00e84b30\n",
    "\n",
    "**Extraction de données du Centre canadien de données astronomiques (CADC)** : CADC recommande l'installation du package CADCdata pour l'usage en Python. La documentation sur comment accéder à la bibliothèque est disponible avec le pydoc cadcdata. Pour plus d'informations, visitez : https://www.cadc-ccda.hia-iha.nrc-cnrc.gc.ca/en/doc/data/#library"
   ]
  },
  {
   "cell_type": "markdown",
   "id": "8177cb24",
   "metadata": {},
   "source": [
    "## Option 1 - Extraction de données NEOSSAT de l'Agence spatiale canadienne (ASC)\n",
    "Avec l'ensemble de données de l'Agence spatiale canadienne, vous pouvez filtrer les données NEOSSAT basées sur l'année, le jour de l'année et l'heure.\n",
    "\n",
    "Pour comprendre la structure des données :\n",
    "\n",
    "Les dossiers montrent l'Année. Les sous-dossiers montrent le jour de l'année. Les fichiers .fits sont nommés selon l'Année, le Jour de l'Année et l'Heure\n",
    "\n",
    "Ex : NEOS_SCI_2021002000257.fits => [Année : 2021], [Jour de l'Année : 002], [Heure : 00:02:57]"
   ]
  },
  {
   "cell_type": "markdown",
   "id": "76179028",
   "metadata": {},
   "source": [
    "### Importation des bibliothèques requises"
   ]
  },
  {
   "cell_type": "code",
   "execution_count": null,
   "id": "2ea70cba",
   "metadata": {},
   "outputs": [],
   "source": [
    "from astropy.visualization import astropy_mpl_style\n",
    "from astropy.io import fits\n",
    "import matplotlib.pyplot as plt\n",
    "from ftplib import FTP\n",
    "import os\n",
    "import re\n",
    "from astropy.coordinates import SkyCoord\n",
    "import astropy.units as u"
   ]
  },
  {
   "cell_type": "markdown",
   "id": "e54ed476",
   "metadata": {},
   "source": [
    "La fonction ci-dessous filtrera à travers les données NEOSSAT de l'ASC basées sur l'année et le jour de l'année. Elle téléchargera ensuite les fichiers .fits vers le chemin local."
   ]
  },
  {
   "cell_type": "code",
   "execution_count": null,
   "id": "02a50bfd",
   "metadata": {},
   "outputs": [],
   "source": [
    "def download_fits_files(year, day_of_year, local_directory):\n",
    "    ftp_host = 'ftp.asc-csa.gc.ca'\n",
    "    ftp = FTP (ftp_host)\n",
    "    ftp.login ()\n",
    "\n",
    "    ftp_directory = f'/users/OpenData_DonneesOuvertes/pub/NEOSSAT/ASTRO/{year}/{day_of_year}/'\n",
    "    ftp.cwd(ftp_directory)\n",
    "\n",
    "    # List all .fits files in the directory\n",
    "    fits_files = [file for file in ftp.nlst() if file.endswith('.fits')]\n",
    "\n",
    "    for fits_file in fits_files:\n",
    "        local_filename = os.path.join(local_directory, fits_file)\n",
    "        with open(local_filename, 'wb') as f:\n",
    "            ftp.retrbinary('RETR ' + fits_file, f.write)\n",
    "\n",
    "    ftp.quit()\n",
    "    print(\"Download complete.\")"
   ]
  },
  {
   "cell_type": "markdown",
   "id": "d23ee413",
   "metadata": {},
   "source": [
    "Sélectionnez l'année et le jour de l'année qui vous intéresse. Dans cet exemple, nous téléchargeons les données du 19 février 2024"
   ]
  },
  {
   "cell_type": "code",
   "execution_count": null,
   "id": "9cd58e25",
   "metadata": {},
   "outputs": [],
   "source": [
    "year = '2024'\n",
    "day_of_year = '050'\n",
    "local_directory = 'C:/Users/rsheikholmolouki/Desktop/NEOSSAT_CSA/Part 1/2024/050'\n",
    "download_fits_files(year, day_of_year, local_directory)"
   ]
  },
  {
   "cell_type": "markdown",
   "id": "a27230f3",
   "metadata": {},
   "source": [
    "Une autre façon de filtrer à travers les données en sélectionnant l'heure et seulement télécharger la gamme de fichiers .fits qui correspond aux critères d'heure. Nous commençons par définir la fonction :"
   ]
  },
  {
   "cell_type": "code",
   "execution_count": null,
   "id": "83b3295a",
   "metadata": {},
   "outputs": [],
   "source": [
    "def download_fits_files_in_time_range(year, day_of_year, start_time, end_time, local_directory):\n",
    "    ftp_host = 'ftp.asc-csa.gc.ca'\n",
    "    ftp = FTP (ftp_host)\n",
    "    ftp.login ()\n",
    "    \n",
    "    ftp_directory = f'/users/OpenData_DonneesOuvertes/pub/NEOSSAT/ASTRO/{year}/{day_of_year}/'\n",
    "    ftp.cwd(ftp_directory)\n",
    "    \n",
    "# List all .fits files in the directory\n",
    "    fits_files = [file for file in ftp.nlst() if file.endswith('.fits')]\n",
    "\n",
    "    start_time_str = start_time.zfill(6)\n",
    "    end_time_str = end_time.zfill(6)\n",
    "\n",
    "    filtered_files = []\n",
    "    for fits_file in fits_files:\n",
    "        match = re.search(r'(\\d{6})\\.fits$', fits_file)\n",
    "        if match:\n",
    "            file_time_str = match.group(1)\n",
    "            if start_time_str <= file_time_str <= end_time_str:\n",
    "                filtered_files.append(fits_file)\n",
    "\n",
    "    if filtered_files:\n",
    "        for fits_file in filtered_files:\n",
    "            local_filename = os.path.join(local_directory, fits_file)\n",
    "            with open(local_filename, 'wb') as f:\n",
    "                ftp.retrbinary('RETR ' + fits_file, f.write)\n",
    "        print(\"Download complete.\")\n",
    "        return filtered_files\n",
    "    else:\n",
    "        print(\"No files found in the specified time range.\")\n",
    "        return None"
   ]
  },
  {
   "cell_type": "markdown",
   "id": "9c994756",
   "metadata": {},
   "source": [
    "Sélectionnez l'année, le jour de l'année et la gamme de temps qui vous intéresse. Dans cet exemple, nous téléchargeons les données du 19 février 2024 de 00:02:57 à 01:09:20"
   ]
  },
  {
   "cell_type": "code",
   "execution_count": null,
   "id": "d89932fd",
   "metadata": {},
   "outputs": [],
   "source": [
    "year = '2024'\n",
    "day_of_year = '002'\n",
    "start_time = '000000' #If the time in mind is 00:00:00 write 000000 to match the last 6 digits filename of the .fits file\n",
    "end_time = '010257' #If the time in mind is 01:09:20 write 010920 to match the last 6 digits filename of the .fits file\n",
    "local_directory = 'C:/Users/rsheikholmolouki/Desktop/NEOSSAT_CSA/Part 1/2024/time_range'\n",
    "\n",
    "downloaded_files = download_fits_files_in_time_range(year, day_of_year, start_time, end_time, local_directory)"
   ]
  },
  {
   "cell_type": "markdown",
   "id": "3dbce40c",
   "metadata": {},
   "source": [
    "Visualisons la gamme sélectionnée des fichiers .fits."
   ]
  },
  {
   "cell_type": "code",
   "execution_count": null,
   "id": "4e40daec",
   "metadata": {},
   "outputs": [],
   "source": [
    "if downloaded_files:\n",
    "    print(\"Downloaded files:\", downloaded_files)\n",
    "    # Visualize the .fits files\n",
    "    from astropy.visualization import astropy_mpl_style\n",
    "    from astropy.io import fits\n",
    "    import matplotlib.pyplot as plt\n",
    "\n",
    "    for fits_file in downloaded_files:\n",
    "        fits_path = os.path.join(local_directory, fits_file)\n",
    "        with fits.open(fits_path) as hdul:\n",
    "            data = hdul[0].data\n",
    "\n",
    "        plt.imshow(data, cmap='gray', interpolation='nearest') \n",
    "        plt.axis('off')  # Turn off axes\n",
    "        plt.title(fits_file)\n",
    "        plt.show()"
   ]
  },
  {
   "cell_type": "markdown",
   "id": "50351ed0",
   "metadata": {},
   "source": [
    "## Option 2 - Extraction de données NEOSSAT du Centre canadien de données astronomiques (CADC)"
   ]
  },
  {
   "cell_type": "markdown",
   "id": "0005ccfa",
   "metadata": {},
   "source": [
    "Avec les ensembles de données CADC, en plus de filtrer les données basées sur le temps, vous pouvez aussi filtrer à travers les données NEOSSAT basées sur les coordonnées du ciel."
   ]
  },
  {
   "cell_type": "markdown",
   "id": "36238369",
   "metadata": {},
   "source": [
    "### Importation des bibliothèques requises"
   ]
  },
  {
   "cell_type": "code",
   "execution_count": null,
   "id": "f1dd23c1",
   "metadata": {},
   "outputs": [],
   "source": [
    "from astroquery.cadc import Cadc\n",
    "from astropy import units as u\n",
    "from astropy.coordinates import SkyCoord\n",
    "from astropy.visualization import astropy_mpl_style\n",
    "from astropy.io import fits\n",
    "import matplotlib.pyplot as plt\n",
    "import numpy as np"
   ]
  },
  {
   "cell_type": "code",
   "execution_count": null,
   "id": "f55aed81",
   "metadata": {},
   "outputs": [],
   "source": [
    "#Initialize the CADC client \n",
    "cadc = Cadc()\n",
    "\n",
    "#Print information about available collection \n",
    "for collection, details in sorted(cadc.get_collections().items()):\n",
    "   print(f'{collection} : {details}')"
   ]
  },
  {
   "cell_type": "code",
   "execution_count": null,
   "id": "4be44537",
   "metadata": {},
   "outputs": [],
   "source": [
    "#Define the target coordinates and search radius based on your preference\n",
    "coords = SkyCoord(240, -30, unit = 'deg') #RA, DEC, Unit\n",
    "radius = 2* u.deg\n",
    "\n",
    "#Query CADC for data within the specificied region and collection \n",
    "results = cadc.query_region(coords,radius, collection = 'NEOSSAT')\n",
    "print (results)"
   ]
  },
  {
   "cell_type": "code",
   "execution_count": null,
   "id": "026d4fd8",
   "metadata": {},
   "outputs": [],
   "source": [
    "#Filter the query results to select data with a specifc 'time_exposure'. \n",
    "# In this example 'time exposure' greater than 50 is selected\n",
    "\n",
    "filtered_results = results[results['time_exposure'] > 50.0]\n",
    "\n",
    "#Access data points from the filtered results \n",
    "print(filtered_results['time_exposure'][100])\n",
    "print(filtered_results['position_dimension_naxis2'][100])\n",
    "print(filtered_results['position_dimension_naxis1'][100])\n",
    "print(filtered_results['instrument_keywords'][100])\n",
    "print(filtered_results['metaRelease'][100])"
   ]
  },
  {
   "cell_type": "code",
   "execution_count": null,
   "id": "c8cc9373",
   "metadata": {},
   "outputs": [],
   "source": [
    "#Get a list of image URLs based on the filtered results\n",
    "image_list = cadc.get_image_list(filtered_results, coords, radius)\n",
    "\n",
    "#Print the number of images int he image_list \n",
    "print(len(image_list))\n",
    "\n",
    "#print the last URL in the image_list \n",
    "print(image_list[-1])\n",
    "\n",
    "#Get the filename of the 100th image from the image_list \n",
    "filename = image_list[100]\n",
    "print(filename)"
   ]
  },
  {
   "cell_type": "markdown",
   "id": "05420458",
   "metadata": {},
   "source": [
    "Visualisons le fichier .fits sélectionné."
   ]
  },
  {
   "cell_type": "code",
   "execution_count": null,
   "id": "95405f40",
   "metadata": {},
   "outputs": [],
   "source": [
    "#Read the FITS image data from the file\n",
    "image_data = fits.getdata(filename, ext =0)"
   ]
  },
  {
   "cell_type": "code",
   "execution_count": null,
   "id": "49efb6e0",
   "metadata": {},
   "outputs": [],
   "source": [
    "#Show the image file\n",
    "plt.style.use(astropy_mpl_style)\n",
    "plt.figure()\n",
    "plt.axis ('off')\n",
    "plt.imshow(image_data, cmap='gray')\n",
    "plt.show()"
   ]
  },
  {
   "cell_type": "markdown",
   "id": "0acca741",
   "metadata": {},
   "source": [
    "Pour continuer avec le traitement des images, veuillez consulter le notebook suivant : https://github.com/asc-csa/NEOSSAT_Tutorial/blob/main/02_Pre%20Processing%20and%20Analysis.ipynb"
   ]
  },
  {
   "cell_type": "code",
   "execution_count": null,
   "id": "154fd7e4",
   "metadata": {},
   "outputs": [],
   "source": []
  }
 ],
 "metadata": {
  "kernelspec": {
   "display_name": "Python 3",
   "language": "python",
   "name": "python3"
  },
  "language_info": {
   "codemirror_mode": {
    "name": "ipython",
    "version": 3
   },
   "file_extension": ".py",
   "mimetype": "text/x-python",
   "name": "python",
   "nbconvert_exporter": "python",
   "pygments_lexer": "ipython3",
   "version": "3.8.5"
  }
 },
 "nbformat": 4,
 "nbformat_minor": 4
}